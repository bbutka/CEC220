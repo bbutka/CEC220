{
  "nbformat": 4,
  "nbformat_minor": 0,
  "metadata": {
    "colab": {
      "provenance": [],
      "authorship_tag": "ABX9TyNhCAM/jXtYsdLKI6BHqthP",
      "include_colab_link": true
    },
    "kernelspec": {
      "name": "python3",
      "display_name": "Python 3"
    },
    "language_info": {
      "name": "python"
    }
  },
  "cells": [
    {
      "cell_type": "markdown",
      "metadata": {
        "id": "view-in-github",
        "colab_type": "text"
      },
      "source": [
        "<a href=\"https://colab.research.google.com/github/bbutka/CEC220/blob/main/Add_and_Shift_with_Booth.ipynb\" target=\"_parent\"><img src=\"https://colab.research.google.com/assets/colab-badge.svg\" alt=\"Open In Colab\"/></a>"
      ]
    },
    {
      "cell_type": "code",
      "execution_count": 49,
      "metadata": {
        "colab": {
          "base_uri": "https://localhost:8080/",
          "height": 424
        },
        "id": "jVG0c4CYKXsO",
        "outputId": "360188b0-72e7-43bf-ccd2-b40603dd9c14"
      },
      "outputs": [
        {
          "name": "stdout",
          "output_type": "stream",
          "text": [
            "Enter the multiplicand (M) in binary (up to 6 bits): 011111\n",
            "Enter the multiplier (Q) in binary (up to 6 bits): 011111\n"
          ]
        },
        {
          "output_type": "display_data",
          "data": {
            "text/plain": [
              "<IPython.core.display.HTML object>"
            ],
            "text/html": [
              "<table><tr><th>Step</th><th>A</th><th>Q</th><th>Q-1</th><th>Action</th></tr><tr><td> 0</td><td>000000</td><td>01111<span style='color:red;'>1</span></td><td><span style='color:red;'>0</span></td><td>Check Q0 and Q-1</td></tr><tr><td> 1</td><td>100001</td><td>011111</td><td> 0</td><td>A=A-M</td></tr><tr><td> 2</td><td>110000</td><td>101111</td><td> 1</td><td>Shift right</td></tr><tr><td> 3</td><td>110000</td><td>10111<span style='color:red;'>1</span></td><td><span style='color:red;'>1</span></td><td>Check Q0 and Q-1</td></tr><tr><td> 4</td><td>111000</td><td>010111</td><td> 1</td><td>Shift right</td></tr><tr><td> 5</td><td>111000</td><td>01011<span style='color:red;'>1</span></td><td><span style='color:red;'>1</span></td><td>Check Q0 and Q-1</td></tr><tr><td> 6</td><td>111100</td><td>001011</td><td> 1</td><td>Shift right</td></tr><tr><td> 7</td><td>111100</td><td>00101<span style='color:red;'>1</span></td><td><span style='color:red;'>1</span></td><td>Check Q0 and Q-1</td></tr><tr><td> 8</td><td>111110</td><td>000101</td><td> 1</td><td>Shift right</td></tr><tr><td> 9</td><td>111110</td><td>00010<span style='color:red;'>1</span></td><td><span style='color:red;'>1</span></td><td>Check Q0 and Q-1</td></tr><tr><td>10</td><td>111111</td><td>000010</td><td> 1</td><td>Shift right</td></tr><tr><td>11</td><td>111111</td><td>00001<span style='color:red;'>0</span></td><td><span style='color:red;'>1</span></td><td>Check Q0 and Q-1</td></tr><tr><td>12</td><td>011110</td><td>000010</td><td> 1</td><td>A=A+M</td></tr><tr><td>13</td><td>001111</td><td>000001</td><td> 0</td><td>Shift right</td></tr><tr><td>14</td><td>001111</td><td>000001</td><td> 0</td><td>Done</td></tr></table>"
            ]
          },
          "metadata": {}
        },
        {
          "output_type": "stream",
          "name": "stdout",
          "text": [
            "\n",
            "Result: 1111000001 (Decimal: 961)\n"
          ]
        }
      ],
      "source": [
        "from IPython.display import display, HTML\n",
        "\n",
        "# Function to perform Booth's multiplication algorithm\n",
        "def booth_multiplication(M, Q, N):\n",
        "    steps = []\n",
        "    step_num = 0\n",
        "    A = 0\n",
        "    Q_minus_1 = 0  # Initialize Q-1 to 0\n",
        "\n",
        "    # Extend the sign of M and Q for signed operations\n",
        "    if M & (1 << (N - 1)):\n",
        "        M = M - (1 << N)\n",
        "    if Q & (1 << (N - 1)):\n",
        "        Q = Q - (1 << N)\n",
        "\n",
        "    # Loop N times\n",
        "    for i in range(N):\n",
        "        step_info = {}\n",
        "        step_info['Step'] = step_num\n",
        "        step_info['A'] = bin(A & ((1 << N) - 1))[2:].zfill(N)\n",
        "        step_info['Q'] = bin(Q & ((1 << N) - 1))[2:].zfill(N)\n",
        "        step_info['Q-1'] = Q_minus_1\n",
        "        step_info['Action'] = f'Check Q0 and Q-1'\n",
        "        steps.append(step_info)\n",
        "        step_num += 1\n",
        "\n",
        "        if (Q & 1 == 1) and (Q_minus_1 == 0):\n",
        "            step_info = {}\n",
        "            step_info['Step'] = step_num\n",
        "            A = A - M\n",
        "            step_info['A'] = bin(A & ((1 << N) - 1))[2:].zfill(N)\n",
        "            step_info['Q'] = bin(Q & ((1 << N) - 1))[2:].zfill(N)\n",
        "            step_info['Q-1'] = Q_minus_1\n",
        "            step_info['Action'] = f'A=A-M'\n",
        "            steps.append(step_info)\n",
        "            step_num += 1\n",
        "        elif (Q & 1 == 0) and (Q_minus_1 == 1):\n",
        "            step_info = {}\n",
        "            step_info['Step'] = step_num\n",
        "            A = A + M\n",
        "            step_info['A'] = bin(A & ((1 << N) - 1))[2:].zfill(N)\n",
        "            step_info['Q'] = bin(Q & ((1 << N) - 1))[2:].zfill(N)\n",
        "            step_info['Q-1'] = Q_minus_1\n",
        "            step_info['Action'] = f'A=A+M'\n",
        "            steps.append(step_info)\n",
        "            step_num += 1\n",
        "\n",
        "        # Shift right A, Q, and Q-1 with sign extension\n",
        "        step_info = {}\n",
        "        step_info['Step'] = step_num\n",
        "        step_info['A'] = bin(A & ((1 << N) - 1))[2:].zfill(N)\n",
        "        step_info['Q'] = bin(Q & ((1 << N) - 1))[2:].zfill(N)\n",
        "        step_info['Q-1'] = Q_minus_1\n",
        "        step_info['Action'] = f'Shift right'\n",
        "\n",
        "        # Extract the sign bit of A before the shift\n",
        "        sign_bit = A & (1 << (N - 1))\n",
        "        A_0 = A & 1\n",
        "\n",
        "        # Perform the right shift with sign extension for A\n",
        "        A = (A >> 1) | sign_bit\n",
        "\n",
        "        # Update Q and Q-1\n",
        "        Q_minus_1 = Q & 1\n",
        "        Q = ((A_0 << (N - 1)) | (Q >> 1)) & ((1 << N) - 1)\n",
        "\n",
        "\n",
        "\n",
        "        step_info['A'] = bin(A & ((1 << N) - 1))[2:].zfill(N)\n",
        "        step_info['Q'] = bin(Q & ((1 << N) - 1))[2:].zfill(N)\n",
        "        step_info['Q-1'] = Q_minus_1\n",
        "        step_info['Action'] = f'Shift right'\n",
        "        steps.append(step_info)\n",
        "        step_num += 1\n",
        "\n",
        "    # Final step\n",
        "    step_info = {}\n",
        "    step_info['Step'] = step_num\n",
        "    step_info['A'] = bin(A & ((1 << N) - 1))[2:].zfill(N)\n",
        "    step_info['Q'] = bin(Q & ((1 << N) - 1))[2:].zfill(N)\n",
        "    step_info['Q-1'] = Q_minus_1\n",
        "    step_info['Action'] = 'Done'\n",
        "    steps.append(step_info)\n",
        "\n",
        "    return steps\n",
        "\n",
        "# Input binary numbers\n",
        "binary_M = input(\"Enter the multiplicand (M) in binary (up to 6 bits): \")\n",
        "binary_Q = input(\"Enter the multiplier (Q) in binary (up to 6 bits): \")\n",
        "\n",
        "# Convert binary to integer\n",
        "M = int(binary_M, 2)\n",
        "Q = int(binary_Q, 2)\n",
        "N = max(len(binary_M), len(binary_Q))  # Number of bits\n",
        "\n",
        "# Perform Booth's multiplication\n",
        "steps = booth_multiplication(M, Q, N)\n",
        "\n",
        "# Display the steps\n",
        "html_output = \"<table><tr><th>Step</th><th>A</th><th>Q</th><th>Q-1</th><th>Action</th></tr>\"\n",
        "for step in steps:\n",
        "    if step['Action'] == 'Check Q0 and Q-1':\n",
        "        Q_highlighted = f\"{step['Q'][:-1]}<span style='color:red;'>{step['Q'][-1]}</span>\"\n",
        "        Q_minus_1_highlighted = f\"<span style='color:red;'>{step['Q-1']}</span>\"\n",
        "    else:\n",
        "        Q_highlighted = step['Q']\n",
        "        Q_minus_1_highlighted = step['Q-1']\n",
        "    html_output += f\"<tr><td>{step['Step']:2}</td><td>{step['A']:>6}</td><td>{Q_highlighted:>6}</td><td>{Q_minus_1_highlighted:>2}</td><td>{step['Action']}</td></tr>\"\n",
        "html_output += \"</table>\"\n",
        "\n",
        "display(HTML(html_output))\n",
        "\n",
        "# Display the result\n",
        "A_final = int(steps[-1]['A'], 2)\n",
        "Q_final = int(steps[-1]['Q'], 2)\n",
        "result = (A_final << N) | Q_final\n",
        "print(f\"\\nResult: {bin(result)[2:]} (Decimal: {result})\")\n",
        "\n",
        "\n",
        "\n",
        "\n"
      ]
    }
  ]
}