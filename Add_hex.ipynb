{
 "cells": [
  {
   "cell_type": "markdown",
   "id": "148b9dac",
   "metadata": {},
   "source": [
    "© 2024 Brian Butka. All rights reserved."
   ]
  },
  {
   "cell_type": "markdown",
   "metadata": {
    "colab_type": "text",
    "id": "view-in-github"
   },
   "source": []
  },
  {
   "cell_type": "code",
   "execution_count": 2,
   "metadata": {
    "colab": {
     "base_uri": "https://localhost:8080/"
    },
    "id": "D9sntLYWubAO",
    "outputId": "5f3ef06a-98a1-4c7d-8b23-781fbccbcd98"
   },
   "outputs": [
    {
     "name": "stdout",
     "output_type": "stream",
     "text": [
      "Enter the first 2-digit hexadecimal number: AF\n",
      "Enter the second 2-digit hexadecimal number: B9\n",
      "Step-by-step addition of AF and B9:\n",
      "\n",
      "Adding digits F (15) + 9 (9) + 0 (previous carry):\n",
      "Intermediate Sum = 24\n",
      "Since 24 >= 16, we create a carry (subtract 16 from the total).\n",
      "Result Digit = 8, New Carry = 1\n",
      "\n",
      "Adding digits A (10) + B (11) + 1 (previous carry):\n",
      "Intermediate Sum = 22\n",
      "Since 22 >= 16, we create a carry (subtract 16 from the total).\n",
      "Result Digit = 6, New Carry = 1\n",
      "\n",
      "Final result: AF + B9 = 168 (in hexadecimal)\n"
     ]
    }
   ],
   "source": [
    "# @title\n",
    "# Function to convert hexadecimal to decimal\n",
    "def hex_to_dec(hex_num):\n",
    "    return int(hex_num, 16)\n",
    "\n",
    "# Function to convert decimal to hexadecimal\n",
    "def dec_to_hex(dec_num):\n",
    "    return hex(dec_num)[2:].upper()\n",
    "\n",
    "# Function to perform hexadecimal addition with detailed steps\n",
    "def hex_addition(hex1, hex2):\n",
    "    dec1 = hex_to_dec(hex1)\n",
    "    dec2 = hex_to_dec(hex2)\n",
    "    dec_sum = dec1 + dec2\n",
    "\n",
    "    print(f\"Step-by-step addition of {hex1} and {hex2}:\")\n",
    "    carry = 0\n",
    "    result = ''\n",
    "    carry_over = 0\n",
    "\n",
    "    for i in range(1, 3):\n",
    "        digit1 = hex1[-i]\n",
    "        digit2 = hex2[-i]\n",
    "\n",
    "        digit1_dec = hex_to_dec(digit1)\n",
    "        digit2_dec = hex_to_dec(digit2)\n",
    "        sum_digit = digit1_dec + digit2_dec + carry_over\n",
    "        carry = sum_digit // 16\n",
    "        result_digit = sum_digit % 16\n",
    "        result = dec_to_hex(result_digit) + result\n",
    "\n",
    "        print(f\"\\nAdding digits {digit1} ({digit1_dec}) + {digit2} ({digit2_dec}) + {carry_over} (previous carry):\")\n",
    "        print(f\"Intermediate Sum = {digit1_dec + digit2_dec + carry_over}\")\n",
    "\n",
    "        if digit1_dec + digit2_dec + carry_over >= 16:\n",
    "            print(f\"Since {digit1_dec + digit2_dec + carry_over} >= 16, we create a carry (subtract 16 from the total).\")\n",
    "        else:\n",
    "            print(f\"Since {digit1_dec + digit2_dec + carry_over} < 16, no carry is created.\")\n",
    "\n",
    "        print(f\"Result Digit = {result_digit}, New Carry = {carry}\")\n",
    "\n",
    "        carry_over = carry\n",
    "\n",
    "    if carry:\n",
    "        result = dec_to_hex(carry) + result\n",
    "\n",
    "    print(f\"\\nFinal result: {hex1} + {hex2} = {result} (in hexadecimal)\")\n",
    "    return result\n",
    "\n",
    "# Main function to get user input and perform addition\n",
    "def main():\n",
    "    hex1 = input(\"Enter the first 2-digit hexadecimal number: \").upper()\n",
    "    hex2 = input(\"Enter the second 2-digit hexadecimal number: \").upper()\n",
    "\n",
    "    if len(hex1) != 2 or len(hex2) != 2:\n",
    "        print(\"Please enter valid 2-digit hexadecimal numbers.\")\n",
    "        return\n",
    "\n",
    "    result = hex_addition(hex1, hex2)\n",
    "\n",
    "# Execute the main function\n",
    "main()\n"
   ]
  }
 ],
 "metadata": {
  "colab": {
   "authorship_tag": "ABX9TyNOESvMUaD1XcSDSurR2f/W",
   "include_colab_link": true,
   "provenance": []
  },
  "kernelspec": {
   "display_name": "Python 3",
   "name": "python3"
  },
  "language_info": {
   "name": "python"
  }
 },
 "nbformat": 4,
 "nbformat_minor": 0
}
