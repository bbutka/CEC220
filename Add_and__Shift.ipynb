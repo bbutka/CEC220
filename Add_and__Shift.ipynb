{
 "cells": [
  {
   "cell_type": "markdown",
   "id": "6cf0cea1",
   "metadata": {},
   "source": [
    "# Add_and__Shift\n",
    "# Add_and__Shift\n",
    "© 2024 Brian Butka. All rights reserved."
   ]
  },
  {
   "cell_type": "markdown",
   "id": "b72cf438",
   "metadata": {},
   "source": [
    "<a href=\"https://colab.research.google.com/github/bbutka/CEC220/blob/main/Add_and__Shift.ipynb\" target=\"_parent\"><img src=\"https://colab.research.google.com/assets/colab-badge.svg\" alt=\"Open In Colab\"/></a>"
   ]
  },
  {
   "cell_type": "markdown",
   "metadata": {
    "colab_type": "text",
    "id": "view-in-github"
   },
   "source": []
  },
  {
   "cell_type": "code",
   "execution_count": null,
   "metadata": {
    "colab": {
     "base_uri": "https://localhost:8080/",
     "height": 341
    },
    "id": "qDx9X22gGEBD",
    "outputId": "612b377c-d384-4f12-c38b-89583078b285"
   },
   "outputs": [
    {
     "name": "stdout",
     "output_type": "stream",
     "text": [
      "Enter the first binary number (up to 6 bits): 1100\n",
      "Enter the second binary number (up to 6 bits): 0101\n"
     ]
    },
    {
     "data": {
      "text/html": [
       "<table><tr><th>Step</th><th>A</th><th>Q</th><th>B</th><th>Action</th></tr><tr><td> 0</td><td>  0000</td><td>110<span style='color:red;'>0</span></td><td>  0101</td><td>Check Q0</td></tr><tr><td> 1</td><td>  0000</td><td>  1100</td><td>  0101</td><td>Shift A_Q Right N=3</td></tr><tr><td> 2</td><td>  0000</td><td>011<span style='color:red;'>0</span></td><td>  0101</td><td>Check Q0</td></tr><tr><td> 3</td><td>  0000</td><td>  0110</td><td>  0101</td><td>Shift A_Q Right N=2</td></tr><tr><td> 4</td><td>  0000</td><td>001<span style='color:red;'>1</span></td><td>  0101</td><td>Check Q0</td></tr><tr><td> 5</td><td>  0000</td><td>  0011</td><td>  0101</td><td>A=A+B</td></tr><tr><td> 6</td><td>  0101</td><td>  0011</td><td>  0101</td><td>Shift A_Q Right N=1</td></tr><tr><td> 7</td><td>  0010</td><td>100<span style='color:red;'>1</span></td><td>  0101</td><td>Check Q0</td></tr><tr><td> 8</td><td>  0010</td><td>  1001</td><td>  0101</td><td>A=A+B</td></tr><tr><td> 9</td><td>  0111</td><td>  1001</td><td>  0101</td><td>Shift A_Q Right N=0</td></tr><tr><td>10</td><td>  0011</td><td>  1100</td><td>  0101</td><td>Done</td></tr></table>"
      ],
      "text/plain": [
       "<IPython.core.display.HTML object>"
      ]
     },
     "metadata": {},
     "output_type": "display_data"
    },
    {
     "name": "stdout",
     "output_type": "stream",
     "text": [
      "\n",
      "Result: 111100 (Decimal: 60)\n"
     ]
    }
   ],
   "source": [
    "from IPython.display import display, HTML\n",
    "\n",
    "# Function to perform the add and shift algorithm\n",
    "def add_and_shift(A, Q, B, N):\n",
    "    steps = []\n",
    "    step_num = 0\n",
    "    original_N = N  # Store the original value of N\n",
    "\n",
    "    for i in range(original_N):\n",
    "        step_info = {}\n",
    "        step_info['Step'] = step_num\n",
    "        step_info['A'] = bin(A)[2:].zfill(original_N)\n",
    "        step_info['Q'] = bin(Q)[2:].zfill(original_N)\n",
    "        step_info['B'] = bin(B)[2:].zfill(original_N)\n",
    "        step_info['Action'] = f'Check Q0'\n",
    "        steps.append(step_info)\n",
    "        step_num += 1\n",
    "\n",
    "        # Check Q0\n",
    "        if Q & 1 == 1:\n",
    "            step_info = {}\n",
    "            step_info['Step'] = step_num\n",
    "            step_info['A'] = bin(A)[2:].zfill(original_N)\n",
    "            step_info['Q'] = bin(Q)[2:].zfill(original_N)\n",
    "            step_info['B'] = bin(B)[2:].zfill(original_N)\n",
    "            step_info['Action'] = f'A=A+B'\n",
    "            A = A + B\n",
    "            steps.append(step_info)\n",
    "            step_num += 1\n",
    "\n",
    "        # Shift A and Q right\n",
    "        step_info = {}\n",
    "        step_info['Step'] = step_num\n",
    "        step_info['A'] = bin(A)[2:].zfill(original_N)\n",
    "        step_info['Q'] = bin(Q)[2:].zfill(original_N)\n",
    "        step_info['B'] = bin(B)[2:].zfill(original_N)\n",
    "        step_info['Action'] = f'Shift A_Q Right N={N-1}'\n",
    "        temp = (A << original_N) | Q  # Concatenate A and Q\n",
    "        temp >>= 1  # Shift right\n",
    "        Q = temp & ((1 << original_N) - 1)  # Extract new Q\n",
    "        A = temp >> original_N  # Extract new A\n",
    "        steps.append(step_info)\n",
    "        step_num += 1\n",
    "\n",
    "        N -= 1  # Decrease N each iteration\n",
    "\n",
    "    # Final step\n",
    "    step_info = {}\n",
    "    step_info['Step'] = step_num\n",
    "    step_info['A'] = bin(A)[2:].zfill(original_N)\n",
    "    step_info['Q'] = bin(Q)[2:].zfill(original_N)\n",
    "    step_info['B'] = bin(B)[2:].zfill(original_N)\n",
    "    step_info['Action'] = 'Done'\n",
    "    steps.append(step_info)\n",
    "\n",
    "    return steps\n",
    "\n",
    "# Input binary numbers\n",
    "binary_A = input(\"Enter the first binary number (up to 6 bits): \")\n",
    "binary_B = input(\"Enter the second binary number (up to 6 bits): \")\n",
    "\n",
    "# Convert binary to integer\n",
    "A = int(binary_A, 2)\n",
    "B = int(binary_B, 2)\n",
    "Q = A  # Initialize Q with the first number\n",
    "N = max(len(binary_A), len(binary_B))  # Number of bits\n",
    "\n",
    "# Perform the algorithm\n",
    "steps = add_and_shift(0, Q, B, N)\n",
    "\n",
    "# Display the steps\n",
    "html_output = \"<table><tr><th>Step</th><th>A</th><th>Q</th><th>B</th><th>Action</th></tr>\"\n",
    "for step in steps:\n",
    "    if step['Action'] == 'Check Q0':\n",
    "        Q_highlighted = f\"{step['Q'][:-1]}<span style='color:red;'>{step['Q'][-1]}</span>\"\n",
    "    else:\n",
    "        Q_highlighted = step['Q']\n",
    "    html_output += f\"<tr><td>{step['Step']:2}</td><td>{step['A']:>6}</td><td>{Q_highlighted:>6}</td><td>{step['B']:>6}</td><td>{step['Action']}</td></tr>\"\n",
    "html_output += \"</table>\"\n",
    "\n",
    "display(HTML(html_output))\n",
    "\n",
    "# Display the result\n",
    "A_final = int(steps[-1]['A'], 2)\n",
    "Q_final = int(steps[-1]['Q'], 2)\n",
    "result = (A_final << N) | Q_final\n",
    "print(f\"\\nResult: {bin(result)[2:]} (Decimal: {result})\")\n",
    "\n",
    "\n",
    "\n",
    "\n",
    "\n",
    "\n",
    "\n"
   ]
  }
 ],
 "metadata": {
  "colab": {
   "authorship_tag": "ABX9TyNze1LxQhrMyKslDT95AhLe",
   "include_colab_link": true,
   "provenance": []
  },
  "kernelspec": {
   "display_name": "Python 3",
   "name": "python3"
  },
  "language_info": {
   "name": "python"
  }
 },
 "nbformat": 4,
 "nbformat_minor": 0
}