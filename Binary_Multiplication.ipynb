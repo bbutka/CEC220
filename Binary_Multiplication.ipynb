{
  "nbformat": 4,
  "nbformat_minor": 0,
  "metadata": {
    "colab": {
      "provenance": [],
      "authorship_tag": "ABX9TyNVb6+Rvk+QLtcpyaz1U/vn",
      "include_colab_link": true
    },
    "kernelspec": {
      "name": "python3",
      "display_name": "Python 3"
    },
    "language_info": {
      "name": "python"
    }
  },
  "cells": [
    {
      "cell_type": "markdown",
      "metadata": {
        "id": "view-in-github",
        "colab_type": "text"
      },
      "source": [
        "<a href=\"https://colab.research.google.com/github/bbutka/CEC220/blob/main/Binary_Multiplication.ipynb\" target=\"_parent\"><img src=\"https://colab.research.google.com/assets/colab-badge.svg\" alt=\"Open In Colab\"/></a>"
      ]
    },
    {
      "cell_type": "code",
      "execution_count": 35,
      "metadata": {
        "colab": {
          "base_uri": "https://localhost:8080/"
        },
        "id": "d5dvr8vrrSPg",
        "outputId": "232bb8fd-8292-4790-abc3-3b53a458971e"
      },
      "outputs": [
        {
          "output_type": "stream",
          "name": "stdout",
          "text": [
            "Enter the multiplicand (M) in binary (up to 8 bits): 1111\n",
            "Enter the multiplier (Q) in binary (up to 8 bits): 1111\n",
            "\n",
            "Multiplication Problem:\n",
            "          1111 (M = 15)\n",
            "        x 1111 (Q = 15)\n",
            "        --------\n",
            "      10100100 (carries)\n",
            "      00001111 (partial product 1)\n",
            "      00011110 (partial product 2)\n",
            "      00111100 (partial product 3)\n",
            "      01111000 (partial product 4)\n",
            "      --------\n",
            "      11100001 (final product)\n",
            "      Final product in decimal: 225\n"
          ]
        }
      ],
      "source": [
        "def binary_addition_with_carry(a, b):\n",
        "    max_len = max(len(a), len(b))\n",
        "    a = a.zfill(max_len)\n",
        "    b = b.zfill(max_len)\n",
        "\n",
        "    carry = 0\n",
        "    result = ''\n",
        "    carries = ''\n",
        "\n",
        "    for i in range(max_len - 1, -1, -1):\n",
        "        total = int(a[i]) + int(b[i]) + carry\n",
        "        if total > 1:\n",
        "            carry = 1\n",
        "            carries = '1' + carries\n",
        "        else:\n",
        "            carry = 0\n",
        "            carries = ' ' + carries  # Change '0' to ' ' for blank carry\n",
        "        result = str(total % 2) + result\n",
        "\n",
        "    # Shift carries one position to the left and add a trailing space\n",
        "    carries = carries[1:] + ' '\n",
        "    return result.zfill(max_len), carries.zfill(max_len)\n",
        "\n",
        "def binary_multiplication(M, Q):\n",
        "    N = max(len(M), len(Q))\n",
        "    M = M.zfill(N)\n",
        "    Q = Q.zfill(N)\n",
        "    partial_products = []\n",
        "\n",
        "    # Calculate partial products\n",
        "    for i in range(N):\n",
        "        if Q[N - 1 - i] == '1':\n",
        "            partial_product = M + '0' * i\n",
        "        else:\n",
        "            partial_product = '0' * (N + i)\n",
        "        partial_products.append(partial_product.zfill(2 * N))\n",
        "\n",
        "    # Initialize final product and carries\n",
        "    final_product = '0' * (2 * N)\n",
        "    total_carries = ' ' * (2 * N)\n",
        "\n",
        "    # Sum the partial products to get the final product\n",
        "    for partial_product in partial_products:\n",
        "        final_product, carries = binary_addition_with_carry(final_product, partial_product)\n",
        "        total_carries, _ = binary_addition_with_carry(total_carries.replace(' ', '0'), carries.replace(' ', '0'))\n",
        "\n",
        "    final_product_dec = int(final_product, 2)\n",
        "    return M, Q, partial_products, final_product, final_product_dec, total_carries\n",
        "\n",
        "# Input binary numbers\n",
        "binary_M = input(\"Enter the multiplicand (M) in binary (up to 8 bits): \")\n",
        "binary_Q = input(\"Enter the multiplier (Q) in binary (up to 8 bits): \")\n",
        "\n",
        "# Convert binary to integer\n",
        "M_dec = int(binary_M, 2)\n",
        "Q_dec = int(binary_Q, 2)\n",
        "\n",
        "# Perform binary multiplication\n",
        "M, Q, partial_products, final_product_bin, final_product_dec, total_carries = binary_multiplication(binary_M, binary_Q)\n",
        "\n",
        "# Specify the number of columns to move to the right\n",
        "t = 6\n",
        "\n",
        "# Display the multiplication problem\n",
        "print(f\"\\nMultiplication Problem:\")\n",
        "print(f\"{' ' * (t+2)}  {M} (M = {M_dec})\")\n",
        "print(f\"{' ' * (t+2)}x {Q} (Q = {Q_dec})\")\n",
        "print(f\"{' ' * (t+1)}{'-' * (2 * len(M))}\")\n",
        "\n",
        "# Display the carries shifted one character to the left\n",
        "print(f\"{' ' * t}{total_carries.rjust(2 * len(M) - 1)} (carries)\")\n",
        "\n",
        "# Display the partial products\n",
        "for i, partial_product in enumerate(partial_products):\n",
        "    print(f\"{' ' * t}{partial_product.rjust(2 * len(M))} (partial product {i+1})\")\n",
        "\n",
        "# Display the final result\n",
        "print(f\"{' ' * t}{'-' * (2 * len(M))}\")\n",
        "print(f\"{' ' * t}{final_product_bin.rjust(2 * len(M))} (final product)\")\n",
        "print(f\"{' ' * t}Final product in decimal: {final_product_dec}\")\n",
        "\n",
        "\n",
        "\n",
        "\n",
        "\n",
        "\n",
        "\n",
        "\n",
        "\n",
        "\n",
        "\n",
        "\n",
        "\n",
        "\n",
        "\n",
        "\n",
        "\n",
        "\n",
        "\n",
        "\n",
        "\n",
        "\n",
        "\n"
      ]
    }
  ]
}