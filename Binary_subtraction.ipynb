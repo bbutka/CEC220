{
 "cells": [
  {
   "cell_type": "markdown",
   "id": "d25a6839",
   "metadata": {},
   "source": [
    "# Binary_subtraction\n",
    "© 2024 Brian Butka. All rights reserved."
   ]
  },
  {
   "cell_type": "markdown",
   "id": "8e3f64dc",
   "metadata": {},
   "source": [
    "<a href=\"https://colab.research.google.com/github/bbutka/CEC220/blob/main/Binary_subtraction.ipynb\" target=\"_parent\"><img src=\"https://colab.research.google.com/assets/colab-badge.svg\" alt=\"Open In Colab\"/></a>"
   ]
  },
  {
   "cell_type": "markdown",
   "metadata": {
    "colab_type": "text",
    "id": "view-in-github"
   },
   "source": []
  },
  {
   "cell_type": "code",
   "execution_count": 82,
   "metadata": {
    "colab": {
     "base_uri": "https://localhost:8080/"
    },
    "id": "ji-W-FBWDONu",
    "outputId": "825c83dc-e2f4-4929-a024-69166e82381d"
   },
   "outputs": [
    {
     "name": "stdout",
     "output_type": "stream",
     "text": [
      "Subtraction Problem:\n",
      "  100100 (36)\n",
      "- 001001 (9)\n",
      "--------\n",
      "\n",
      "Problem with borrows\n",
      "  012012 (36)\n",
      "- 001001 (9)\n",
      "--------\n",
      "  011011 (27)\n",
      "Final Result: 011011\n"
     ]
    }
   ],
   "source": [
    "def binary_subtraction_with_steps(a, b):\n",
    "    max_len = max(len(a), len(b))\n",
    "    a = a.zfill(max_len)\n",
    "    b = b.zfill(max_len)\n",
    "\n",
    "    a_decimal = int(a, 2)\n",
    "    b_decimal = int(b, 2)\n",
    "\n",
    "    print(f\"Subtraction Problem:\")\n",
    "    print(f\"  {a} ({a_decimal})\")\n",
    "    print(f\"- {b} ({b_decimal})\")\n",
    "    print(f\"{'-' * (max_len + 2)}\")\n",
    "\n",
    "    # Function to handle borrowing\n",
    "    def transform_borrow(a_list, i):\n",
    "        j = i - 1\n",
    "      # print(f\"  Borrowing for position {i}: initial a = {''.join(a_list)}\")\n",
    "        while j >= 0 and a_list[j] == '0':\n",
    "            a_list[j] = '1'\n",
    "            j -= 1\n",
    "        if j >= 0:\n",
    "            a_list[j] = str(int(a_list[j]) - 1)\n",
    "            for k in range(j + 1, i):\n",
    "                a_list[k] = '1'\n",
    "            a_list[i] = '2'  # Change the rightmost borrowing position to '2'\n",
    "        else:\n",
    "            a_list[i] = '2'\n",
    "        #print(f\"  Borrowing for position {i}: updated a = {''.join(a_list)}\")\n",
    "        return a_list\n",
    "\n",
    "    # Step-by-step subtraction with borrow transformation\n",
    "    a_list = list(a)\n",
    "    b_list = list(b)\n",
    "    result = []\n",
    "    steps = []\n",
    "    borrow = 0\n",
    "\n",
    "    for i in range(max_len - 1, -1, -1):\n",
    "        if int(a_list[i]) < int(b_list[i]):\n",
    "            a_list = transform_borrow(a_list, i)\n",
    "        sub = int(a_list[i]) - int(b_list[i]) - borrow\n",
    "        if sub >= 2:\n",
    "            borrow = 1\n",
    "            sub -= 2\n",
    "        else:\n",
    "            borrow = 0\n",
    "        result.insert(0, str(sub))\n",
    "\n",
    "        # Record the current step\n",
    "        current_step = {\n",
    "            'step_number': max_len - i,\n",
    "            'a': ''.join(a_list),\n",
    "            'b': ''.join(b_list),\n",
    "            'result': ''.join(result),\n",
    "            'borrow': borrow\n",
    "        }\n",
    "        steps.append(current_step)\n",
    "\n",
    "    # Print the steps for debugging\n",
    "    #for step in steps:\n",
    "     #   print(step)\n",
    "\n",
    "    # Print the final step\n",
    "    final_step = steps[-1]\n",
    "    final_result_decimal = int(final_step['result'], 2)\n",
    "    print(f\"\\nProblem with borrows\")\n",
    "    print(f\"  {final_step['a']} ({a_decimal})\")\n",
    "    print(f\"- {final_step['b']} ({b_decimal})\")\n",
    "    print(f\"{'-' * (max_len + 2)}\")\n",
    "    print(f\"  {' ' * (max_len - len(final_step['result']))}{final_step['result']} ({final_result_decimal})\")\n",
    "\n",
    "    final_result = ''.join(result)\n",
    "    return final_result\n",
    "\n",
    "# Example usage:\n",
    "a = \"100100\"  # 0 in decimal\n",
    "b = \"001001\"  # 1 in decimal\n",
    "result = binary_subtraction_with_steps(a, b)\n",
    "print(f\"Final Result: {result}\")\n"
   ]
  }
 ],
 "metadata": {
  "colab": {
   "authorship_tag": "ABX9TyOddqGzVzn9D4unQZSCpJhX",
   "include_colab_link": true,
   "provenance": []
  },
  "kernelspec": {
   "display_name": "Python 3",
   "name": "python3"
  },
  "language_info": {
   "name": "python"
  }
 },
 "nbformat": 4,
 "nbformat_minor": 0
}
