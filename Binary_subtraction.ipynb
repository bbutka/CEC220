{
  "nbformat": 4,
  "nbformat_minor": 0,
  "metadata": {
    "colab": {
      "provenance": [],
      "authorship_tag": "ABX9TyPkhsSIlO9p23zsS1/JOQcE",
      "include_colab_link": true
    },
    "kernelspec": {
      "name": "python3",
      "display_name": "Python 3"
    },
    "language_info": {
      "name": "python"
    }
  },
  "cells": [
    {
      "cell_type": "markdown",
      "metadata": {
        "id": "view-in-github",
        "colab_type": "text"
      },
      "source": [
        "<a href=\"https://colab.research.google.com/github/bbutka/CEC220/blob/main/Binary_subtraction.ipynb\" target=\"_parent\"><img src=\"https://colab.research.google.com/assets/colab-badge.svg\" alt=\"Open In Colab\"/></a>"
      ]
    },
    {
      "cell_type": "code",
      "execution_count": 56,
      "metadata": {
        "colab": {
          "base_uri": "https://localhost:8080/"
        },
        "id": "ji-W-FBWDONu",
        "outputId": "f6d3e55d-6dde-4c8d-dfd4-d19404559ab5"
      },
      "outputs": [
        {
          "output_type": "stream",
          "name": "stdout",
          "text": [
            "Original Problem:\n",
            "  100100 (36)\n",
            "- 001001 (9)\n",
            "--------\n",
            "Transformed Problem (After Borrowing):\n",
            "  100012 (36)\n",
            "- 001001 (9)\n",
            "--------\n",
            "\n",
            "Final Step (borrow = 0):\n",
            "  012012 (36)\n",
            "- 001001 (9)\n",
            "--------\n",
            "  011011 (27)\n",
            "Final Result: 011011 \n"
          ]
        }
      ],
      "source": [
        "def binary_subtraction_with_steps(a, b):\n",
        "    max_len = max(len(a), len(b))\n",
        "    a = a.zfill(max_len)\n",
        "    b = b.zfill(max_len)\n",
        "\n",
        "    a_decimal = int(a, 2)\n",
        "    b_decimal = int(b, 2)\n",
        "\n",
        "    print(f\"Original Problem:\")\n",
        "    print(f\"  {a} ({a_decimal})\")\n",
        "    print(f\"- {b} ({b_decimal})\")\n",
        "    print(f\"{'-' * (max_len + 2)}\")\n",
        "\n",
        "    # Function to handle borrowing\n",
        "    def transform_borrow(a_list, i):\n",
        "   #     print(f\"  Borrowing for index {i}: Initial a_list = {a_list}\")\n",
        "        j = i - 1\n",
        "        while j >= 0 and a_list[j] == '0':\n",
        "            a_list[j] = '1'\n",
        "            j -= 1\n",
        "        if j >= 0:\n",
        "            a_list[j] = str(int(a_list[j]) - 1)\n",
        "            for k in range(j + 1, i):\n",
        "                a_list[k] = '1'\n",
        "            a_list[i] = '2'\n",
        " #       print(f\"  Borrowing for index {i}: Transformed a_list = {a_list}\")\n",
        "        return a_list\n",
        "\n",
        "    # Perform initial borrow transformation if necessary\n",
        "    a_list = list(a)\n",
        "    b_list = list(b)\n",
        "    for i in range(max_len - 1, -1, -1):\n",
        "        if int(a_list[i]) < int(b_list[i]):\n",
        "            a_list = transform_borrow(a_list, i)\n",
        "            break\n",
        "\n",
        "    transformed_a = ''.join(a_list)\n",
        "    transformed_a_decimal = a_decimal\n",
        "    print(f\"Transformed Problem (After Borrowing):\")\n",
        "    print(f\"  {transformed_a} ({transformed_a_decimal})\")\n",
        "    print(f\"- {b} ({b_decimal})\")\n",
        "    print(f\"{'-' * (max_len + 2)}\")\n",
        "\n",
        "    # Step-by-step subtraction with borrow transformation\n",
        "    borrow = 0\n",
        "    result = []\n",
        "    steps = []\n",
        "    for i in range(max_len - 1, -1, -1):\n",
        "        sub = int(transformed_a[i]) - int(b[i]) - borrow\n",
        "        if sub < 0:\n",
        "            borrow = 0\n",
        "            sub += 2\n",
        "            # If a borrow is required, transform the number again\n",
        "            a_list = transform_borrow(list(transformed_a), i)\n",
        "            transformed_a = ''.join(a_list)\n",
        "        else:\n",
        "            borrow = 0\n",
        "\n",
        "        result.insert(0, str(sub))\n",
        "\n",
        "        # Record the current step\n",
        "        current_step = {\n",
        "            'step_number': max_len - i,\n",
        "            'a': transformed_a,\n",
        "            'b': b,\n",
        "            'result': ''.join(result),\n",
        "            'borrow': borrow\n",
        "        }\n",
        "        steps.append(current_step)\n",
        "\n",
        "    # Print the final step\n",
        "    final_step = steps[-1]\n",
        "    final_result_decimal = int(final_step['result'], 2)\n",
        "    print(f\"\\nFinal Step (borrow = {final_step['borrow']}):\")\n",
        "    print(f\"  {final_step['a']} ({transformed_a_decimal})\")\n",
        "    print(f\"- {final_step['b']} ({b_decimal})\")\n",
        "    print(f\"{'-' * (max_len + 2)}\")\n",
        "    print(f\"  {' ' * (max_len - len(final_step['result']))}{final_step['result']} ({final_result_decimal})\")\n",
        "\n",
        "    final_result = ''.join(result)\n",
        "    return final_result\n",
        "\n",
        "# Example usage:\n",
        "a = \"100100\"  # 36 in decimal\n",
        "b = \"001001\"  # 9 in decimal\n",
        "result = binary_subtraction_with_steps(a, b)\n",
        "print(f\"Final Result: {result} \")\n"
      ]
    }
  ]
}